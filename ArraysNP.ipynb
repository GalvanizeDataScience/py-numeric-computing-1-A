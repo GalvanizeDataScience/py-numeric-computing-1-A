{
 "cells": [
  {
   "cell_type": "code",
   "execution_count": 281,
   "metadata": {},
   "outputs": [
    {
     "name": "stdout",
     "output_type": "stream",
     "text": [
      "[1 2 3 4 5 6 7 8 9]\n"
     ]
    }
   ],
   "source": [
    "import numpy as np\r\n",
    "#Create and print a one-dimensional NumPy array, a, from the following Python list; [1,2,3,4,5,6,7,8,9]\r\n",
    "a=np.array([1,2,3,4,5,6,7,8,9])\r\n",
    "print(a)"
   ]
  },
  {
   "cell_type": "code",
   "execution_count": 282,
   "metadata": {},
   "outputs": [
    {
     "name": "stdout",
     "output_type": "stream",
     "text": [
      "(9,)\n"
     ]
    }
   ],
   "source": [
    "#Print the shape of array a, to confirm that it’s (9,)\r\n",
    "a=np.shape([1,2,3,4,5,6,7,8,9])\r\n",
    "print(a)"
   ]
  },
  {
   "cell_type": "code",
   "execution_count": 283,
   "metadata": {},
   "outputs": [
    {
     "name": "stdout",
     "output_type": "stream",
     "text": [
      "int32\n"
     ]
    }
   ],
   "source": [
    "#Print the data type of array a\r\n",
    "a=np.array([1,2,3,4,5,6,7,8,9])\r\n",
    "print(a.dtype)"
   ]
  },
  {
   "cell_type": "code",
   "execution_count": 284,
   "metadata": {},
   "outputs": [
    {
     "name": "stdout",
     "output_type": "stream",
     "text": [
      "[ 1.  2.  3.  4.  5.  6.  7.  8.  9. 10. 11. 12.]\n"
     ]
    }
   ],
   "source": [
    "#Create and print a one-dimensional NumPy array, b, of data type float, from the following Python list; [1,2,3,4,5,6,7,8,9,10,11,12]\r\n",
    "b=np.array([1,2,3,4,5,6,7,8,9,10,11,12] , dtype=float)\r\n",
    "print(b)\r\n",
    "\r\n",
    "\r\n"
   ]
  },
  {
   "cell_type": "code",
   "execution_count": 285,
   "metadata": {},
   "outputs": [
    {
     "name": "stdout",
     "output_type": "stream",
     "text": [
      "float64\n"
     ]
    }
   ],
   "source": [
    "#Print the data type of NumPy array b\r\n",
    "b=np.array([1,2,3,4,5,6,7,8,9,10,11,12] , dtype=float)\r\n",
    "print(b.dtype)"
   ]
  },
  {
   "cell_type": "code",
   "execution_count": 286,
   "metadata": {},
   "outputs": [
    {
     "name": "stdout",
     "output_type": "stream",
     "text": [
      "[[1 2 3 4]]\n"
     ]
    }
   ],
   "source": [
    "#Create and print a row vector, called row_vector, of shape (1, 4), containing the sequence of numbers 1, 2, 3, 4\r\n",
    "column_vector = np.array([1, 2 , 3 , 4])\r\n",
    "print(row_vector.reshape(1,4))\r\n"
   ]
  },
  {
   "cell_type": "code",
   "execution_count": 287,
   "metadata": {},
   "outputs": [
    {
     "name": "stdout",
     "output_type": "stream",
     "text": [
      "[[1]\n",
      " [2]\n",
      " [3]\n",
      " [4]]\n"
     ]
    }
   ],
   "source": [
    "#Create and print a column vector, called column_vector, of shape (4, 1), containing the sequence of numbers 1, 2, 3, 4\r\n",
    "column_vector = np.array([1, 2, 3, 4])\r\n",
    "print(column_vector.reshape(4,1))"
   ]
  },
  {
   "cell_type": "code",
   "execution_count": 288,
   "metadata": {},
   "outputs": [
    {
     "name": "stdout",
     "output_type": "stream",
     "text": [
      "[[1 2 3 4]]\n"
     ]
    }
   ],
   "source": [
    "\r\n",
    "a = np.array([[1], [2], [3], [4]])\r\n",
    "c = a.reshape(1,4)    # row vector\r\n",
    "print(c)"
   ]
  },
  {
   "cell_type": "code",
   "execution_count": 289,
   "metadata": {},
   "outputs": [
    {
     "name": "stdout",
     "output_type": "stream",
     "text": [
      "[[1 2 3]\n",
      " [4 5 6]\n",
      " [7 8 9]]\n"
     ]
    }
   ],
   "source": [
    "##Create and print array c in the shape of a (3,3) two-dimensional array containing the following sequence of numbers 1, 2, 3, 4, 5, 6, 7, 8, 9\r\n",
    "c = np.array([1, 2, 3, 4, 5, 6, 7, 8, 9])\r\n",
    "print(c.reshape(3,3))"
   ]
  },
  {
   "cell_type": "code",
   "execution_count": 290,
   "metadata": {},
   "outputs": [
    {
     "name": "stdout",
     "output_type": "stream",
     "text": [
      "[[[ 1.  2.  3.]\n",
      "  [ 4.  5.  6.]]\n",
      "\n",
      " [[ 7.  8.  9.]\n",
      "  [10. 11. 12.]]]\n",
      "The shape of array d is (12,).\n"
     ]
    }
   ],
   "source": [
    "#1, 2, 3, 4, 5, 6, 7, 8, 9, 10, 11, 12\r\n",
    "\r\n",
    "d = np.array([1, 2, 3, 4, 5, 6, 7, 8, 9, 10, 11, 12] , dtype=float)\r\n",
    "print(d.reshape(2,2,3))\r\n",
    "print(\"The shape of array d is \" + str(d.shape) + \".\")\r\n"
   ]
  },
  {
   "cell_type": "code",
   "execution_count": 291,
   "metadata": {},
   "outputs": [
    {
     "name": "stdout",
     "output_type": "stream",
     "text": [
      "The shape of array a is (9,)\n",
      "The shape of array b is (12,)\n",
      "(3, 3)\n",
      "(12,)\n"
     ]
    }
   ],
   "source": [
    "#Print the shapes of arrays a, b, c and d\r\n",
    "a=np.shape([1,2,3,4,5,6,7,8,9])\r\n",
    "\r\n",
    "b=np.shape([1,2,3,4,5,6,7,8,9,10,11,12])\r\n",
    "\r\n",
    "c = np.shape([[1,2,3] , [4,5,6] , [7,8,9]])\r\n",
    "\r\n",
    "d = np.shape([1, 2, 3, 4, 5, 6, 7, 8, 9, 10, 11, 12])\r\n",
    "\r\n",
    "\r\n",
    "\r\n",
    "print('The shape of array a is',a)\r\n",
    "print('The shape of array b is',b)\r\n",
    "print(c)\r\n",
    "print(d)\r\n",
    "\r\n",
    "\r\n"
   ]
  },
  {
   "cell_type": "code",
   "execution_count": 292,
   "metadata": {},
   "outputs": [
    {
     "name": "stdout",
     "output_type": "stream",
     "text": [
      "1\n",
      "1\n",
      "2\n",
      "1\n"
     ]
    }
   ],
   "source": [
    "a=np.ndim([1,2,3,4,5,6,7,8,9])\r\n",
    "b=np.ndim([1,2,3,4,5,6,7,8,9,10,11,12])\r\n",
    "c = np.ndim([[1,2,3] , [4,5,6] , [7,8,9]])\r\n",
    "d = np.ndim([1, 2, 3, 4, 5, 6, 7, 8, 9, 10, 11, 12])\r\n",
    "\r\n",
    "print(a)\r\n",
    "print(b)\r\n",
    "print(c)\r\n",
    "print(d)\r\n",
    "\r\n"
   ]
  },
  {
   "cell_type": "code",
   "execution_count": 293,
   "metadata": {},
   "outputs": [
    {
     "name": "stdout",
     "output_type": "stream",
     "text": [
      "Array a contains 9 elements, of type int32.\n",
      "Array b contains 12 elements, of type float64.\n",
      "Array c contains 9 elements, of type int32.\n",
      "Array d contains 12 elements, of type float64.\n"
     ]
    }
   ],
   "source": [
    "#######\r\n",
    "a=np.array([1,2,3,4,5,6,7,8,9])\r\n",
    "b=np.array([1,2,3,4,5,6,7,8,9,10,11,12] , dtype=float)\r\n",
    "c = np.array([[1,2,3] , [4,5,6] , [7,8,9]] )\r\n",
    "d = np.array([1, 2, 3, 4, 5, 6, 7, 8, 9, 10, 11, 12],  dtype=float)\r\n",
    "\r\n",
    "print(\"Array a contains \" + str(a.size) + \" elements, of type \" + str(a.dtype) + \".\")\r\n",
    "print(\"Array b contains \" + str(b.size) + \" elements, of type \" + str(b.dtype) + \".\")\r\n",
    "print(\"Array c contains \" + str(c.size) + \" elements, of type \" + str(c.dtype) + \".\")\r\n",
    "print(\"Array d contains \" + str(d.size) + \" elements, of type \" + str(d.dtype) + \".\")"
   ]
  },
  {
   "cell_type": "code",
   "execution_count": 294,
   "metadata": {},
   "outputs": [
    {
     "name": "stdout",
     "output_type": "stream",
     "text": [
      "[[1 2 3]\n",
      " [4 5 6]\n",
      " [7 8 9]]\n"
     ]
    }
   ],
   "source": [
    "#Part3\r\n",
    "\r\n",
    "x = a.reshape(3,3)\r\n",
    "print(x)"
   ]
  },
  {
   "cell_type": "code",
   "execution_count": 295,
   "metadata": {},
   "outputs": [
    {
     "name": "stdout",
     "output_type": "stream",
     "text": [
      "[[[ 1.  2.  3.]\n",
      "  [ 4.  5.  6.]]\n",
      "\n",
      " [[ 7.  8.  9.]\n",
      "  [10. 11. 12.]]]\n"
     ]
    }
   ],
   "source": [
    "#Create and print array y by reshaping array b to shape (2,2,3)\r\n",
    "y = b.reshape(2,2,3)\r\n",
    "print(y)"
   ]
  },
  {
   "cell_type": "code",
   "execution_count": 296,
   "metadata": {},
   "outputs": [
    {
     "name": "stdout",
     "output_type": "stream",
     "text": [
      "Tha max  of array x is : 9  and th min is  :  1\n",
      "Tha max  of array x is : 12.0  and th min is  :  1.0\n"
     ]
    }
   ],
   "source": [
    "#Part4\r\n",
    "#Print the min, max, sum and mean of arrays a and x\r\n",
    "x = a.reshape(3,3)\r\n",
    "print('Tha max  of array x is :' , x.max() ,' and th min is  : ' , x.min() ) \r\n",
    "\r\n",
    "y = b.reshape(2,2,3)\r\n",
    "print('Tha max  of array x is :' , y.max() ,' and th min is  : ' , y.min() ) \r\n",
    "\r\n"
   ]
  },
  {
   "cell_type": "code",
   "execution_count": 297,
   "metadata": {},
   "outputs": [
    {
     "name": "stdout",
     "output_type": "stream",
     "text": [
      "[[ 2  4  6]\n",
      " [ 8 10 12]\n",
      " [14 16 18]]\n"
     ]
    }
   ],
   "source": [
    "#Add arrays c and x to produce array p, then print p\r\n",
    "v = c + x\r\n",
    "print(v)"
   ]
  },
  {
   "cell_type": "code",
   "execution_count": 298,
   "metadata": {},
   "outputs": [
    {
     "name": "stdout",
     "output_type": "stream",
     "text": [
      "[[[ -1.   2.   7.]\n",
      "  [ 14.  23.  34.]]\n",
      "\n",
      " [[ 47.  62.  79.]\n",
      "  [ 98. 119. 142.]]]\n"
     ]
    }
   ],
   "source": [
    "d = b.reshape(2,2,3)\r\n",
    "y = b.reshape(2,2,3)\r\n",
    "print(d* y-2)\r\n",
    "#q = (d * y) - 2"
   ]
  },
  {
   "cell_type": "code",
   "execution_count": 299,
   "metadata": {},
   "outputs": [
    {
     "name": "stdout",
     "output_type": "stream",
     "text": [
      "[[0. 0. 0. 0. 0.]\n",
      " [0. 0. 0. 0. 0.]\n",
      " [0. 0. 0. 0. 0.]]\n"
     ]
    }
   ],
   "source": [
    "#Create and print array a of shape (3,5) containing only zeros\r\n",
    "z = np.zeros((3,5))\r\n",
    "print(z)"
   ]
  },
  {
   "cell_type": "code",
   "execution_count": 300,
   "metadata": {},
   "outputs": [
    {
     "name": "stdout",
     "output_type": "stream",
     "text": [
      "[[[0.00000000e+000 0.00000000e+000]\n",
      "  [0.00000000e+000 0.00000000e+000]]\n",
      "\n",
      " [[0.00000000e+000 7.68766145e-321]\n",
      "  [6.79038653e-313 8.01097888e-307]]]\n"
     ]
    }
   ],
   "source": [
    "#Create and print array b of shape (2,2,2) containing only uninitialized values. Note that uninitialized values will appear random, and your results will likely be different from those shown in the example.\r\n",
    "#.....\r\n",
    "b = np.empty((2,2,2)) \r\n",
    "print(b)"
   ]
  },
  {
   "cell_type": "code",
   "execution_count": 301,
   "metadata": {},
   "outputs": [
    {
     "name": "stdout",
     "output_type": "stream",
     "text": [
      "[ 2  4  6  8 10 12 14 16]\n"
     ]
    }
   ],
   "source": [
    "#Create and print array c containing the even integers between 1 and 16 using the .arange method\r\n",
    "\r\n",
    "#c = np.arange(1,17,3)\r\n",
    "#output: [ 2  4  6  8 10 12 14 16]\r\n",
    "c = np.arange(2,17,2)\r\n",
    "print(c)\r\n"
   ]
  },
  {
   "cell_type": "code",
   "execution_count": 302,
   "metadata": {},
   "outputs": [
    {
     "name": "stdout",
     "output_type": "stream",
     "text": [
      "[ 1  2  4  6  8  9 11 13 15]\n"
     ]
    }
   ],
   "source": [
    "#Create and print array d containing the odd integers between 1 and 16 using the .linspace method\r\n",
    "#output : [ 1  3  5  7  9 11 13 15]\r\n",
    "\r\n",
    "d=np.linspace(1,15,9 , dtype=int)\r\n",
    "print(d)"
   ]
  },
  {
   "cell_type": "code",
   "execution_count": 308,
   "metadata": {},
   "outputs": [
    {
     "data": {
      "text/plain": [
       "'Lorli Gilmore is going to Griffindor!'"
      ]
     },
     "execution_count": 308,
     "metadata": {},
     "output_type": "execute_result"
    }
   ],
   "source": [
    "#Create a function sorting_hat() that takes in a list of celebrity names and a list of Hogwarts houses from Harry Potter and outputs a combinantion of random name\r\n",
    "#  and random house in the following form: 'Chris Hemsworth is going to Hufflepuff!' You may use the provided list of celebrities or make your own.\r\n",
    "\r\n",
    "#names = ['Bobby Fisher', 'Beyonce', 'Arnold Schwarzenegger', 'Akira Kurosawa', 'Britney Spears', 'Alexander the Great', 'Chris Hemsworth', 'David Lynch', 'Madonna', 'Anthony Mackie']\r\n",
    "\r\n",
    "#houses = ['Griffindor', 'Hufflepuff', 'Slytherin', 'Ravenclaw']\r\n",
    "\r\n",
    "#Random names and houses > use .random.choice( n , h)\r\n",
    "# n= name , h = house\r\n",
    "\r\n",
    "\r\n",
    "n = ['Morty'  , 'Rick' , 'Lana' , \"Jhon wick\" , 'Lorli Gilmore' , 'Blair Waldorf ' , ' Stephen Arroyo']\r\n",
    "h = ['Griffindor', 'Hufflepuff', 'Slytherin', 'Ravenclaw' ,'Alpha Kappa Alpha ' , 'Kappa Alpha Thets' , 'Alpha sigma phi' , 'Delta psi' ]\r\n",
    "\r\n",
    "\r\n",
    "def sorting_hat(n, h):\r\n",
    "    anames = np.array(n)\r\n",
    "    ahouses = np.array(h)\r\n",
    "    \r\n",
    "    x = np.random.choice(anames)\r\n",
    "    y = np.random.choice(ahouses)\r\n",
    "    \r\n",
    "    return str(x) + \" is going to \" + str(y) + \"!\"\r\n",
    "   \r\n",
    "\r\n",
    "sorting_hat(n, h)"
   ]
  }
 ],
 "metadata": {
  "interpreter": {
   "hash": "b3ba2566441a7c06988d0923437866b63cedc61552a5af99d1f4fb67d367b25f"
  },
  "kernelspec": {
   "display_name": "Python 3.8.8 64-bit ('base': conda)",
   "name": "python3"
  },
  "language_info": {
   "codemirror_mode": {
    "name": "ipython",
    "version": 3
   },
   "file_extension": ".py",
   "mimetype": "text/x-python",
   "name": "python",
   "nbconvert_exporter": "python",
   "pygments_lexer": "ipython3",
   "version": "3.8.8"
  },
  "orig_nbformat": 4
 },
 "nbformat": 4,
 "nbformat_minor": 2
}